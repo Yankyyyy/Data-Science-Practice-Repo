{
  "metadata": {
    "kernelspec": {
      "name": "python",
      "display_name": "Python (Pyodide)",
      "language": "python"
    },
    "language_info": {
      "codemirror_mode": {
        "name": "python",
        "version": 3
      },
      "file_extension": ".py",
      "mimetype": "text/x-python",
      "name": "python",
      "nbconvert_exporter": "python",
      "pygments_lexer": "ipython3",
      "version": "3.8"
    }
  },
  "nbformat_minor": 4,
  "nbformat": 4,
  "cells": [
    {
      "cell_type": "markdown",
      "source": "# The Lorenz Differential Equations",
      "metadata": {}
    },
    {
      "cell_type": "markdown",
      "source": "Before we start, we import some preliminary libraries.",
      "metadata": {}
    },
    {
      "cell_type": "code",
      "source": "%pip install -q ipywidgets",
      "metadata": {
        "trusted": true
      },
      "outputs": [],
      "execution_count": 1
    },
    {
      "cell_type": "code",
      "source": "await micropip.install(\"scipy\")",
      "metadata": {
        "trusted": true
      },
      "outputs": [
        {
          "ename": "<class 'NameError'>",
          "evalue": "name 'micropip' is not defined",
          "traceback": [
            "\u001b[0;31m---------------------------------------------------------------------------\u001b[0m",
            "\u001b[0;31mNameError\u001b[0m                                 Traceback (most recent call last)",
            "Cell \u001b[0;32mIn[2], line 1\u001b[0m\n\u001b[0;32m----> 1\u001b[0m \u001b[38;5;28;01mawait\u001b[39;00m \u001b[43mmicropip\u001b[49m\u001b[38;5;241m.\u001b[39minstall(\u001b[38;5;124m\"\u001b[39m\u001b[38;5;124mscipy\u001b[39m\u001b[38;5;124m\"\u001b[39m)\n",
            "\u001b[0;31mNameError\u001b[0m: name 'micropip' is not defined"
          ],
          "output_type": "error"
        }
      ],
      "execution_count": 2
    },
    {
      "cell_type": "code",
      "source": "import numpy as np\nfrom matplotlib import pyplot as plt\nfrom scipy import integrate\n\nfrom ipywidgets import interactive, fixed",
      "metadata": {
        "trusted": true
      },
      "outputs": [
        {
          "ename": "<class 'ModuleNotFoundError'>",
          "evalue": "The module 'scipy' is included in the Pyodide distribution, but it is not installed.\nYou can install it by calling:\n  await micropip.install(\"scipy\") in Python, or\n  await pyodide.loadPackage(\"scipy\") in JavaScript\nSee https://pyodide.org/en/stable/usage/loading-packages.html for more details.",
          "traceback": [
            "\u001b[0;31m---------------------------------------------------------------------------\u001b[0m",
            "\u001b[0;31mModuleNotFoundError\u001b[0m                       Traceback (most recent call last)",
            "Cell \u001b[0;32mIn[3], line 3\u001b[0m\n\u001b[1;32m      1\u001b[0m \u001b[38;5;28;01mimport\u001b[39;00m \u001b[38;5;21;01mnumpy\u001b[39;00m \u001b[38;5;28;01mas\u001b[39;00m \u001b[38;5;21;01mnp\u001b[39;00m\n\u001b[1;32m      2\u001b[0m \u001b[38;5;28;01mfrom\u001b[39;00m \u001b[38;5;21;01mmatplotlib\u001b[39;00m \u001b[38;5;28;01mimport\u001b[39;00m pyplot \u001b[38;5;28;01mas\u001b[39;00m plt\n\u001b[0;32m----> 3\u001b[0m \u001b[38;5;28;01mfrom\u001b[39;00m \u001b[38;5;21;01mscipy\u001b[39;00m \u001b[38;5;28;01mimport\u001b[39;00m integrate\n\u001b[1;32m      5\u001b[0m \u001b[38;5;28;01mfrom\u001b[39;00m \u001b[38;5;21;01mipywidgets\u001b[39;00m \u001b[38;5;28;01mimport\u001b[39;00m interactive, fixed\n",
            "\u001b[0;31mModuleNotFoundError\u001b[0m: The module 'scipy' is included in the Pyodide distribution, but it is not installed.\nYou can install it by calling:\n  await micropip.install(\"scipy\") in Python, or\n  await pyodide.loadPackage(\"scipy\") in JavaScript\nSee https://pyodide.org/en/stable/usage/loading-packages.html for more details."
          ],
          "output_type": "error"
        }
      ],
      "execution_count": 3
    },
    {
      "cell_type": "markdown",
      "source": "We will also define the actual solver and plotting routine.",
      "metadata": {}
    },
    {
      "cell_type": "code",
      "source": "def solve_lorenz(sigma=10.0, beta=8./3, rho=28.0):\n    \"\"\"Plot a solution to the Lorenz differential equations.\"\"\"\n\n    max_time = 4.0\n    N = 30\n\n    fig = plt.figure(1)\n    ax = fig.add_axes([0, 0, 1, 1], projection='3d')\n    ax.axis('off')\n\n    # prepare the axes limits\n    ax.set_xlim((-25, 25))\n    ax.set_ylim((-35, 35))\n    ax.set_zlim((5, 55))\n    \n    def lorenz_deriv(x_y_z, t0, sigma=sigma, beta=beta, rho=rho):\n        \"\"\"Compute the time-derivative of a Lorenz system.\"\"\"\n        x, y, z = x_y_z\n        return [sigma * (y - x), x * (rho - z) - y, x * y - beta * z]\n\n    # Choose random starting points, uniformly distributed from -15 to 15\n    np.random.seed(1)\n    x0 = -15 + 30 * np.random.random((N, 3))\n\n    # Solve for the trajectories\n    t = np.linspace(0, max_time, int(250*max_time))\n    x_t = np.asarray([integrate.odeint(lorenz_deriv, x0i, t)\n                      for x0i in x0])\n    \n    # choose a different color for each trajectory\n    colors = plt.cm.viridis(np.linspace(0, 1, N))\n\n    for i in range(N):\n        x, y, z = x_t[i,:,:].T\n        lines = ax.plot(x, y, z, '-', c=colors[i])\n        plt.setp(lines, linewidth=2)\n    angle = 104\n    ax.view_init(30, angle)\n    plt.show()\n\n    return t, x_t",
      "metadata": {
        "trusted": true
      },
      "outputs": [],
      "execution_count": 4
    },
    {
      "cell_type": "markdown",
      "source": "We explore the Lorenz system of differential equations:\n\n$$\n\\begin{aligned}\n\\dot{x} & = \\sigma(y-x) \\\\\n\\dot{y} & = \\rho x - y - xz \\\\\n\\dot{z} & = -\\beta z + xy\n\\end{aligned}\n$$\n\nLet's change (\\\\(\\sigma\\\\), \\\\(\\beta\\\\), \\\\(\\rho\\\\)) with ipywidgets and examine the trajectories.",
      "metadata": {}
    },
    {
      "cell_type": "code",
      "source": "w=interactive(solve_lorenz,sigma=(0.0,50.0),rho=(0.0,50.0))\nw",
      "metadata": {
        "trusted": true
      },
      "outputs": [],
      "execution_count": null
    },
    {
      "cell_type": "markdown",
      "source": "For the default set of parameters, we see the trajectories swirling around two points, called attractors. ",
      "metadata": {}
    },
    {
      "cell_type": "markdown",
      "source": "The object returned by `interactive` is a `Widget` object and it has attributes that contain the current result and arguments:",
      "metadata": {}
    },
    {
      "cell_type": "code",
      "source": "t, x_t = w.result",
      "metadata": {
        "trusted": true
      },
      "outputs": [],
      "execution_count": null
    },
    {
      "cell_type": "code",
      "source": "w.kwargs",
      "metadata": {
        "trusted": true
      },
      "outputs": [],
      "execution_count": null
    },
    {
      "cell_type": "markdown",
      "source": "After interacting with the system, we can take the result and perform further computations. In this case, we compute the average positions in \\\\(x\\\\), \\\\(y\\\\) and \\\\(z\\\\).",
      "metadata": {}
    },
    {
      "cell_type": "code",
      "source": "xyz_avg = x_t.mean(axis=1)",
      "metadata": {
        "trusted": true
      },
      "outputs": [],
      "execution_count": null
    },
    {
      "cell_type": "code",
      "source": "xyz_avg.shape",
      "metadata": {
        "trusted": true
      },
      "outputs": [],
      "execution_count": null
    },
    {
      "cell_type": "markdown",
      "source": "Creating histograms of the average positions (across different trajectories) show that, on average, the trajectories swirl about the attractors.",
      "metadata": {}
    },
    {
      "cell_type": "code",
      "source": "from matplotlib import pyplot as plt\n%matplotlib inline",
      "metadata": {
        "trusted": true
      },
      "outputs": [],
      "execution_count": null
    },
    {
      "cell_type": "code",
      "source": "plt.hist(xyz_avg[:,0])\nplt.title('Average $x(t)$');",
      "metadata": {
        "trusted": true
      },
      "outputs": [],
      "execution_count": null
    },
    {
      "cell_type": "code",
      "source": "plt.hist(xyz_avg[:,1])\nplt.title('Average $y(t)$');",
      "metadata": {
        "trusted": true
      },
      "outputs": [],
      "execution_count": null
    },
    {
      "cell_type": "code",
      "source": "",
      "metadata": {},
      "outputs": [],
      "execution_count": null
    }
  ]
}