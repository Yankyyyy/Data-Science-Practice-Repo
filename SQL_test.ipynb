{
  "metadata": {
    "kernelspec": {
      "name": "SQLite",
      "display_name": "SQLite",
      "language": "sql"
    },
    "language_info": {
      "codemirror_mode": "sql",
      "file_extension": "",
      "mimetype": "",
      "name": "sql",
      "version": "3.32.3"
    }
  },
  "nbformat_minor": 4,
  "nbformat": 4,
  "cells": [
    {
      "cell_type": "code",
      "source": "%CREATE test_db.db",
      "metadata": {
        "trusted": true
      },
      "outputs": [],
      "execution_count": 1
    },
    {
      "cell_type": "code",
      "source": "CREATE TABLE players (Name STRING, Class STRING, Level INTEGER, Hitpoints INTEGER)",
      "metadata": {
        "trusted": true
      },
      "outputs": [
        {
          "ename": "Error",
          "evalue": "table players already exists",
          "traceback": [
            "Error: table players already exists"
          ],
          "output_type": "error"
        }
      ],
      "execution_count": 15
    },
    {
      "cell_type": "code",
      "source": "ALTER TABLE players\nDROP COLUMN Id",
      "metadata": {
        "trusted": true
      },
      "outputs": [
        {
          "ename": "Error",
          "evalue": "near \"DROP\": syntax error",
          "traceback": [
            "Error: near \"DROP\": syntax error"
          ],
          "output_type": "error"
        }
      ],
      "execution_count": 34
    },
    {
      "cell_type": "code",
      "source": "SELECT COUNT(*) as rowcount FROM players",
      "metadata": {
        "trusted": true
      },
      "outputs": [
        {
          "execution_count": 5,
          "output_type": "execute_result",
          "data": {
            "text/html": "<table>\n<tr>\n<th>rowcount</th>\n</tr>\n<tr>\n<td>1</td>\n</tr>\n</table>",
            "text/plain": "+----------+\n| rowcount |\n+----------+\n| 1        |\n+----------+"
          },
          "metadata": {}
        }
      ],
      "execution_count": 5
    },
    {
      "cell_type": "code",
      "source": "INSERT INTO players (Name, Class, Level, Hitpoints) VALUES (\"Sir Wolf\", \"Cleric\", 2, 20);",
      "metadata": {
        "trusted": true
      },
      "outputs": [],
      "execution_count": 6
    },
    {
      "cell_type": "code",
      "source": "SELECT Name, Level, Hitpoints FROM players;",
      "metadata": {
        "trusted": true
      },
      "outputs": [
        {
          "execution_count": 7,
          "output_type": "execute_result",
          "data": {
            "text/html": "<table>\n<tr>\n<th>Name</th>\n<th>Level</th>\n<th>Hitpoints</th>\n</tr>\n<tr>\n<td>Martin Splitskull</td>\n<td>3</td>\n<td>40</td>\n</tr>\n<tr>\n<td>Sir Wolf</td>\n<td>2</td>\n<td>20</td>\n</tr>\n</table>",
            "text/plain": "+-------------------+-------+-----------+\n| Name              | Level | Hitpoints |\n+-------------------+-------+-----------+\n| Martin Splitskull | 3     | 40        |\n+-------------------+-------+-----------+\n| Sir Wolf          | 2     | 20        |\n+-------------------+-------+-----------+"
          },
          "metadata": {}
        }
      ],
      "execution_count": 7
    },
    {
      "cell_type": "code",
      "source": "INSERT INTO players (Name, Class, Level, Hitpoints) VALUES (\"Sylvain, The Grey\", \"Wizard\", 1, 10),(\"Yanky\", \"Battle Mage\", 10, 100);",
      "metadata": {
        "trusted": true
      },
      "outputs": [],
      "execution_count": 8
    },
    {
      "cell_type": "code",
      "source": "SELECT SUM (Level) FROM players",
      "metadata": {
        "trusted": true
      },
      "outputs": [
        {
          "execution_count": 9,
          "output_type": "execute_result",
          "data": {
            "text/html": "<table>\n<tr>\n<th>SUM (Level)</th>\n</tr>\n<tr>\n<td>16</td>\n</tr>\n</table>",
            "text/plain": "+-------------+\n| SUM (Level) |\n+-------------+\n| 16          |\n+-------------+"
          },
          "metadata": {}
        }
      ],
      "execution_count": 9
    },
    {
      "cell_type": "code",
      "source": "SELECT Level, SUM(Hitpoints) AS `Total Hitpoints`\nFROM players\nGROUP BY Level\nORDER BY `Total Hitpoints` DESC;",
      "metadata": {
        "trusted": true
      },
      "outputs": [
        {
          "execution_count": 10,
          "output_type": "execute_result",
          "data": {
            "text/html": "<table>\n<tr>\n<th>Level</th>\n<th>Total Hitpoints</th>\n</tr>\n<tr>\n<td>10</td>\n<td>100</td>\n</tr>\n<tr>\n<td>3</td>\n<td>40</td>\n</tr>\n<tr>\n<td>2</td>\n<td>20</td>\n</tr>\n<tr>\n<td>1</td>\n<td>10</td>\n</tr>\n</table>",
            "text/plain": "+-------+-----------------+\n| Level | Total Hitpoints |\n+-------+-----------------+\n| 10    | 100             |\n+-------+-----------------+\n| 3     | 40              |\n+-------+-----------------+\n| 2     | 20              |\n+-------+-----------------+\n| 1     | 10              |\n+-------+-----------------+"
          },
          "metadata": {}
        }
      ],
      "execution_count": 10
    },
    {
      "cell_type": "code",
      "source": "%XVEGA_PLOT\n    X_FIELD Level\n    Y_FIELD Hitpoints\n    MARK circle\n    WIDTH 100\n    HEIGHT 200\n    <>\n    SELECT Level, Hitpoints FROM players",
      "metadata": {
        "trusted": true
      },
      "outputs": [
        {
          "execution_count": 11,
          "output_type": "execute_result",
          "data": {
            "text/html": "<table>\n<tr>\n<th>Level</th>\n<th>Hitpoints</th>\n</tr>\n<tr>\n<td>3</td>\n<td>40</td>\n</tr>\n<tr>\n<td>2</td>\n<td>20</td>\n</tr>\n<tr>\n<td>1</td>\n<td>10</td>\n</tr>\n<tr>\n<td>10</td>\n<td>100</td>\n</tr>\n</table>",
            "text/plain": "+-------+-----------+\n| Level | Hitpoints |\n+-------+-----------+\n| 3     | 40        |\n+-------+-----------+\n| 2     | 20        |\n+-------+-----------+\n| 1     | 10        |\n+-------+-----------+\n| 10    | 100       |\n+-------+-----------+"
          },
          "metadata": {}
        },
        {
          "execution_count": 11,
          "output_type": "execute_result",
          "data": {
            "application/vnd.vegalite.v3+json": {
              "$schema": "https://vega.github.io/schema/vega-lite/v4.json",
              "config": {
                "axis": {
                  "grid": true
                }
              },
              "data": {
                "values": [
                  {
                    "Hitpoints": "name",
                    "Level": "name"
                  },
                  {
                    "Hitpoints": "40",
                    "Level": "3"
                  },
                  {
                    "Hitpoints": "20",
                    "Level": "2"
                  },
                  {
                    "Hitpoints": "10",
                    "Level": "1"
                  },
                  {
                    "Hitpoints": "100",
                    "Level": "10"
                  }
                ]
              },
              "encoding": {
                "x": {
                  "field": "Level",
                  "type": "quantitative"
                },
                "y": {
                  "field": "Hitpoints",
                  "type": "quantitative"
                }
              },
              "height": 200,
              "mark": {
                "type": "circle"
              },
              "width": 100
            },
            "image/png": "[encoded data removed]"
          },
          "metadata": {}
        }
      ],
      "execution_count": 11
    },
    {
      "cell_type": "code",
      "source": "SELECT Name, Level, Hitpoints FROM players;",
      "metadata": {
        "trusted": true
      },
      "outputs": [
        {
          "execution_count": 12,
          "output_type": "execute_result",
          "data": {
            "text/html": "<table>\n<tr>\n<th>Name</th>\n<th>Level</th>\n<th>Hitpoints</th>\n</tr>\n<tr>\n<td>Martin Splitskull</td>\n<td>3</td>\n<td>40</td>\n</tr>\n<tr>\n<td>Sir Wolf</td>\n<td>2</td>\n<td>20</td>\n</tr>\n<tr>\n<td>Sylvain, The Grey</td>\n<td>1</td>\n<td>10</td>\n</tr>\n<tr>\n<td>Yanky</td>\n<td>10</td>\n<td>100</td>\n</tr>\n</table>",
            "text/plain": "+-------------------+-------+-----------+\n| Name              | Level | Hitpoints |\n+-------------------+-------+-----------+\n| Martin Splitskull | 3     | 40        |\n+-------------------+-------+-----------+\n| Sir Wolf          | 2     | 20        |\n+-------------------+-------+-----------+\n| Sylvain, The Grey | 1     | 10        |\n+-------------------+-------+-----------+\n| Yanky             | 10    | 100       |\n+-------------------+-------+-----------+"
          },
          "metadata": {}
        }
      ],
      "execution_count": 12
    },
    {
      "cell_type": "code",
      "source": "SELECT * FROM players;",
      "metadata": {
        "trusted": true
      },
      "outputs": [
        {
          "execution_count": 23,
          "output_type": "execute_result",
          "data": {
            "text/html": "<table>\n<tr>\n<th>Name</th>\n<th>Class</th>\n<th>Level</th>\n<th>Hitpoints</th>\n<th>Id</th>\n</tr>\n<tr>\n<td>Martin Splitskull</td>\n<td>Warrior</td>\n<td>3</td>\n<td>40</td>\n<td></td>\n</tr>\n<tr>\n<td>Sir Wolf</td>\n<td>Cleric</td>\n<td>2</td>\n<td>20</td>\n<td></td>\n</tr>\n<tr>\n<td>Sylvain, The Grey</td>\n<td>Wizard</td>\n<td>1</td>\n<td>10</td>\n<td></td>\n</tr>\n<tr>\n<td>Yanky</td>\n<td>Battle Mage</td>\n<td>10</td>\n<td>100</td>\n<td></td>\n</tr>\n<tr>\n<td></td>\n<td></td>\n<td></td>\n<td></td>\n<td>1435847</td>\n</tr>\n<tr>\n<td></td>\n<td></td>\n<td></td>\n<td></td>\n<td>1246307</td>\n</tr>\n<tr>\n<td></td>\n<td></td>\n<td></td>\n<td></td>\n<td>1396240</td>\n</tr>\n<tr>\n<td></td>\n<td></td>\n<td></td>\n<td></td>\n<td>1323799</td>\n</tr>\n</table>",
            "text/plain": "+-------------------+-------------+-------+-----------+---------+\n| Name              | Class       | Level | Hitpoints | Id      |\n+-------------------+-------------+-------+-----------+---------+\n| Martin Splitskull | Warrior     | 3     | 40        |         |\n+-------------------+-------------+-------+-----------+---------+\n| Sir Wolf          | Cleric      | 2     | 20        |         |\n+-------------------+-------------+-------+-----------+---------+\n| Sylvain, The Grey | Wizard      | 1     | 10        |         |\n+-------------------+-------------+-------+-----------+---------+\n| Yanky             | Battle Mage | 10    | 100       |         |\n+-------------------+-------------+-------+-----------+---------+\n|                   |             |       |           | 1435847 |\n+-------------------+-------------+-------+-----------+---------+\n|                   |             |       |           | 1246307 |\n+-------------------+-------------+-------+-----------+---------+\n|                   |             |       |           | 1396240 |\n+-------------------+-------------+-------+-----------+---------+\n|                   |             |       |           | 1323799 |\n+-------------------+-------------+-------+-----------+---------+"
          },
          "metadata": {}
        }
      ],
      "execution_count": 23
    },
    {
      "cell_type": "code",
      "source": "CREATE TABLE clan(Member STRING, Class STRING, Id INTEGER)",
      "metadata": {
        "trusted": true
      },
      "outputs": [],
      "execution_count": 14
    },
    {
      "cell_type": "code",
      "source": "INSERT INTO players (Id) VALUES(1435847),(1246307),(1396240),(1323799)",
      "metadata": {
        "trusted": true
      },
      "outputs": [],
      "execution_count": 17
    },
    {
      "cell_type": "code",
      "source": "DELETE from players;",
      "metadata": {
        "trusted": true
      },
      "outputs": [],
      "execution_count": 48
    },
    {
      "cell_type": "code",
      "source": "Select * FROM players;",
      "metadata": {
        "trusted": true
      },
      "outputs": [
        {
          "execution_count": 49,
          "output_type": "execute_result",
          "data": {
            "text/html": "<table>\n<tr>\n<th>Name</th>\n<th>Class</th>\n<th>Level</th>\n<th>Hitpoints</th>\n<th>Id</th>\n</tr>\n</table>",
            "text/plain": "+------+-------+-------+-----------+----+\n| Name | Class | Level | Hitpoints | Id |\n+------+-------+-------+-----------+----+"
          },
          "metadata": {}
        }
      ],
      "execution_count": 49
    },
    {
      "cell_type": "code",
      "source": "INSERT INTO players (Name, Class, Level, Hitpoints, Id) VALUES (\"Sylvain, The Grey\", \"Wizard\", 1, 10, 1435847),(\"Yanky\", \"Battle Mage\", 10, 100,1323799),(\"Sir Wolf\", \"Cleric\", 2, 20, 1396240);",
      "metadata": {
        "trusted": true
      },
      "outputs": [],
      "execution_count": 50
    },
    {
      "cell_type": "code",
      "source": "Select * FROM players;",
      "metadata": {
        "trusted": true
      },
      "outputs": [
        {
          "execution_count": 51,
          "output_type": "execute_result",
          "data": {
            "text/html": "<table>\n<tr>\n<th>Name</th>\n<th>Class</th>\n<th>Level</th>\n<th>Hitpoints</th>\n<th>Id</th>\n</tr>\n<tr>\n<td>Sylvain, The Grey</td>\n<td>Wizard</td>\n<td>1</td>\n<td>10</td>\n<td>1435847</td>\n</tr>\n<tr>\n<td>Yanky</td>\n<td>Battle Mage</td>\n<td>10</td>\n<td>100</td>\n<td>1323799</td>\n</tr>\n<tr>\n<td>Sir Wolf</td>\n<td>Cleric</td>\n<td>2</td>\n<td>20</td>\n<td>1396240</td>\n</tr>\n</table>",
            "text/plain": "+-------------------+-------------+-------+-----------+---------+\n| Name              | Class       | Level | Hitpoints | Id      |\n+-------------------+-------------+-------+-----------+---------+\n| Sylvain, The Grey | Wizard      | 1     | 10        | 1435847 |\n+-------------------+-------------+-------+-----------+---------+\n| Yanky             | Battle Mage | 10    | 100       | 1323799 |\n+-------------------+-------------+-------+-----------+---------+\n| Sir Wolf          | Cleric      | 2     | 20        | 1396240 |\n+-------------------+-------------+-------+-----------+---------+"
          },
          "metadata": {}
        }
      ],
      "execution_count": 51
    },
    {
      "cell_type": "code",
      "source": "",
      "metadata": {
        "trusted": true
      },
      "outputs": [],
      "execution_count": null
    }
  ]
}