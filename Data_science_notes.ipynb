{
  "metadata": {
    "kernelspec": {
      "name": "python",
      "display_name": "Python (Pyodide)",
      "language": "python"
    },
    "language_info": {
      "codemirror_mode": {
        "name": "python",
        "version": 3
      },
      "file_extension": ".py",
      "mimetype": "text/x-python",
      "name": "python",
      "nbconvert_exporter": "python",
      "pygments_lexer": "ipython3",
      "version": "3.8"
    }
  },
  "nbformat_minor": 4,
  "nbformat": 4,
  "cells": [
    {
      "cell_type": "code",
      "source": "import warnings\nwarnings.filterwarnings(\"ignore\")\nimport numpy as np\n\nhr_pw=[150, 425, 100, 375, 240]\nmpg=[15, 42, 10, 37, 24]\nacc=[300, 850, 200, 750, 480]\nverdict=[4, 1, 5, 2, 3]\nprint(\"Horse power list = \\n\", hr_pw)\nprint(\"Minimun hr_pw = \", np.min(hr_pw))\nprint(\"Maximum hr_pw = \", np.max(hr_pw))",
      "metadata": {
        "trusted": true
      },
      "outputs": [
        {
          "name": "stdout",
          "text": "Horse power list = \n [150, 425, 100, 375, 240]\nMinimun hr_pw =  100\nMaximum hr_pw =  425\n",
          "output_type": "stream"
        }
      ],
      "execution_count": 3
    },
    {
      "cell_type": "code",
      "source": "hr_pw_arr=np.array(hr_pw)\nmpg_arr=np.array(mpg)\nverdict_arr=np.array(acc)\nverdict_arr=np.array(verdict)\nprint(\"Horse power array = \\n\", hr_pw_arr)\nprint(\"Filter hr_pw = \", hr_pw_arr[np.where(hr_pw_arr>=300)])\nprint(\"Sorting hr_pw = \", np.sort(hr_pw_arr))\nprint(\"Mathematical operations on hr_pw - \\n1. Sum = \", np.sum(hr_pw_arr), \"\\n2. Multiplication = \", np.multiply(hr_pw_arr[2],hr_pw_arr[4]))",
      "metadata": {
        "trusted": true
      },
      "outputs": [
        {
          "name": "stdout",
          "text": "Horse power array = \n [150 425 100 375 240]\nFilter hr_pw =  [425 375]\nSorting hr_pw =  [100 150 240 375 425]\nMathematical operations on hr_pw - \n1. Sum =  1290 \n2. Multiplication =  24000\n",
          "output_type": "stream"
        }
      ],
      "execution_count": 4
    },
    {
      "cell_type": "code",
      "source": "car_att=[[15, 42, 10, 37, 24],[150, 425, 100, 375, 240],[300, 850, 200, 750, 480],[4, 1, 5, 2, 3]]\ncar_att_arr=np.array(car_att)\nprint(\"Car attributes array = \\n\", car_att_arr)\nprint(\"Datatype of car_att_arr is \", car_att_arr.dtype)\nprint(\"Shape of car_att_arr is \", car_att_arr.shape)\nprint(\"Dimention of car_att_arr is \", car_att_arr.ndim)\nprint(\"To access an element - \", car_att_arr[2,1])\nprint(\"Different ways to access an multiple elements - \\n1.\", car_att_arr[0:4:1], \"\\n\\n2.\", car_att_arr[0:4:2,0:1], \"\\n\\n3.\", car_att_arr[0::4,0::1])",
      "metadata": {
        "trusted": true
      },
      "outputs": [
        {
          "name": "stdout",
          "text": "Car attributes array = \n [[ 15  42  10  37  24]\n [150 425 100 375 240]\n [300 850 200 750 480]\n [  4   1   5   2   3]]\nDatatype of car_att_arr is  int32\nShape of car_att_arr is  (4, 5)\nDimention of car_att_arr is  2\nTo access an element -  850\nDifferent ways to access an multiple elements - \n1. [[ 15  42  10  37  24]\n [150 425 100 375 240]\n [300 850 200 750 480]\n [  4   1   5   2   3]] \n\n2. [[ 15]\n [300]] \n\n3. [[15 42 10 37 24]]\n",
          "output_type": "stream"
        }
      ],
      "execution_count": 5
    },
    {
      "cell_type": "code",
      "source": "import micropip\nawait micropip.install(\"scipy\")\nfrom skimage.io import imread\nfrom matplotlib import pyplot as plt\n\nimg=imread(Pictures/Infosys_ID_front.jpg)\nplt.imshow(img)",
      "metadata": {
        "trusted": true
      },
      "outputs": [
        {
          "ename": "<class 'NameError'>",
          "evalue": "name 'pip' is not defined",
          "traceback": [
            "\u001b[0;31m---------------------------------------------------------------------------\u001b[0m",
            "\u001b[0;31mNameError\u001b[0m                                 Traceback (most recent call last)",
            "Cell \u001b[0;32mIn[7], line 2\u001b[0m\n\u001b[1;32m      1\u001b[0m \u001b[38;5;28;01mimport\u001b[39;00m \u001b[38;5;21;01mmicropip\u001b[39;00m\n\u001b[0;32m----> 2\u001b[0m \u001b[38;5;28;01mawait\u001b[39;00m \u001b[43mpip\u001b[49m\u001b[38;5;241m.\u001b[39minstall(\u001b[38;5;124m\"\u001b[39m\u001b[38;5;124mscipy\u001b[39m\u001b[38;5;124m\"\u001b[39m)\n\u001b[1;32m      3\u001b[0m \u001b[38;5;28;01mfrom\u001b[39;00m \u001b[38;5;21;01mskimage\u001b[39;00m\u001b[38;5;21;01m.\u001b[39;00m\u001b[38;5;21;01mio\u001b[39;00m \u001b[38;5;28;01mimport\u001b[39;00m imread\n\u001b[1;32m      4\u001b[0m \u001b[38;5;28;01mfrom\u001b[39;00m \u001b[38;5;21;01mmatplotlib\u001b[39;00m \u001b[38;5;28;01mimport\u001b[39;00m pyplot \u001b[38;5;28;01mas\u001b[39;00m plt\n",
            "\u001b[0;31mNameError\u001b[0m: name 'pip' is not defined"
          ],
          "output_type": "error"
        }
      ],
      "execution_count": 7
    },
    {
      "cell_type": "code",
      "source": "",
      "metadata": {
        "trusted": true
      },
      "outputs": [],
      "execution_count": null
    }
  ]
}