{
  "cells": [
    {
      "cell_type": "code",
      "execution_count": 3,
      "metadata": {
        "trusted": true
      },
      "outputs": [
        {
          "name": "stdout",
          "output_type": "stream",
          "text": [
            "1\n"
          ]
        }
      ],
      "source": [
        "import re\n",
        "name=\"Python is 1\"\n",
        "digitCount=re.sub(\"[^0-9]\",\"\", name)\n",
        "print(len(digitCount))"
      ]
    },
    {
      "cell_type": "code",
      "execution_count": 4,
      "metadata": {
        "trusted": true
      },
      "outputs": [
        {
          "name": "stdout",
          "output_type": "stream",
          "text": [
            "     * \n",
            "    * * \n",
            "   * * * \n",
            "  * * * * \n",
            " * * * * * \n"
          ]
        }
      ],
      "source": [
        "n=5\n",
        "for i in range(n):\n",
        "    for j in range(n):\n",
        "        print(end=\" \")\n",
        "    n=n-1\n",
        "    for j in range(i+1):\n",
        "        print(\"*\", end=\" \")\n",
        "    print(\"\")"
      ]
    },
    {
      "cell_type": "code",
      "execution_count": 149,
      "metadata": {
        "trusted": true
      },
      "outputs": [
        {
          "name": "stdout",
          "output_type": "stream",
          "text": [
            "24.0\n"
          ]
        }
      ],
      "source": [
        "x = 24\n",
        "temp=float(x)\n",
        "print(temp)"
      ]
    },
    {
      "cell_type": "code",
      "execution_count": 91,
      "metadata": {
        "trusted": true
      },
      "outputs": [
        {
          "name": "stdout",
          "output_type": "stream",
          "text": [
            "     * \n",
            "    * * \n",
            "   * * * \n",
            "  * * * * \n",
            " * * * * * \n"
          ]
        }
      ],
      "source": [
        "def triangle(n):\n",
        "    for i in range(0,n):\n",
        "        for j in range(0,n):\n",
        "            print(end=\" \")\n",
        "        n=n-1\n",
        "        for j in range(0,i+1):\n",
        "            print(\"*\",end=\" \")\n",
        "        print(\"\")\n",
        "n=5\n",
        "triangle(n)"
      ]
    },
    {
      "cell_type": "code",
      "execution_count": 94,
      "metadata": {
        "trusted": true
      },
      "outputs": [
        {
          "name": "stdout",
          "output_type": "stream",
          "text": [
            "2\n"
          ]
        }
      ],
      "source": [
        "my_list=[27,54,82,12,18,79,48,10,2,90,8]\n",
        "min=my_list[0]\n",
        "for i in range(1,len(my_list)):\n",
        "    if min<my_list[i]:\n",
        "        pass;\n",
        "    else:\n",
        "        min=my_list[i]\n",
        "print(min)"
      ]
    },
    {
      "cell_type": "code",
      "execution_count": 4,
      "metadata": {
        "trusted": true
      },
      "outputs": [
        {
          "name": "stdout",
          "output_type": "stream",
          "text": [
            "[2, 54, 82, 12, 18, 79, 48, 10, 27, 90, 8]\n",
            "[2, 8, 82, 12, 18, 79, 48, 10, 27, 90, 54]\n",
            "[2, 8, 10, 12, 18, 79, 48, 82, 27, 90, 54]\n",
            "[2, 8, 10, 12, 18, 79, 48, 82, 27, 90, 54]\n",
            "[2, 8, 10, 12, 18, 79, 48, 82, 27, 90, 54]\n",
            "[2, 8, 10, 12, 18, 27, 48, 82, 79, 90, 54]\n",
            "[2, 8, 10, 12, 18, 27, 48, 82, 79, 90, 54]\n",
            "[2, 8, 10, 12, 18, 27, 48, 54, 79, 90, 82]\n",
            "[2, 8, 10, 12, 18, 27, 48, 54, 79, 90, 82]\n",
            "[2, 8, 10, 12, 18, 27, 48, 54, 79, 82, 90]\n",
            "[2, 8, 10, 12, 18, 27, 48, 54, 79, 82, 90]\n",
            "[2, 8, 10, 12, 18, 27, 48, 54, 79, 82, 90]\n"
          ]
        }
      ],
      "source": [
        "my_list=[27,54,82,12,18,79,48,10,2,90,8]\n",
        "for i in range(len(my_list)):\n",
        "        min_idx = i\n",
        "        for j in range(i+1,len(my_list)):\n",
        "            if my_list[j] < my_list[min_idx]:\n",
        "                min_idx = j\n",
        "        (my_list[i], my_list[min_idx]) = (my_list[min_idx], my_list[i])\n",
        "        print(my_list)\n",
        "print(my_list)"
      ]
    },
    {
      "cell_type": "code",
      "execution_count": 3,
      "metadata": {
        "trusted": true
      },
      "outputs": [
        {
          "name": "stdout",
          "output_type": "stream",
          "text": [
            "[27, 54, 12, 18, 79, 48, 10, 2, 82, 8, 90]\n",
            "[27, 12, 18, 54, 48, 10, 2, 79, 8, 82, 90]\n",
            "[12, 18, 27, 48, 10, 2, 54, 8, 79, 82, 90]\n",
            "[12, 18, 27, 10, 2, 48, 8, 54, 79, 82, 90]\n",
            "[12, 18, 10, 2, 27, 8, 48, 54, 79, 82, 90]\n",
            "[12, 10, 2, 18, 8, 27, 48, 54, 79, 82, 90]\n",
            "[10, 2, 12, 8, 18, 27, 48, 54, 79, 82, 90]\n",
            "[2, 10, 8, 12, 18, 27, 48, 54, 79, 82, 90]\n",
            "[2, 8, 10, 12, 18, 27, 48, 54, 79, 82, 90]\n",
            "[2, 8, 10, 12, 18, 27, 48, 54, 79, 82, 90]\n",
            "[2, 8, 10, 12, 18, 27, 48, 54, 79, 82, 90]\n",
            "[2, 8, 10, 12, 18, 27, 48, 54, 79, 82, 90]\n"
          ]
        }
      ],
      "source": [
        "my_list=[27,54,82,12,18,79,48,10,2,90,8]\n",
        "n=len(my_list)\n",
        "for i in range(n):\n",
        "    for j in range(n-i-1):\n",
        "        if my_list[j]>my_list[j+1]:\n",
        "            (my_list[j],my_list[j+1])=(my_list[j+1],my_list[j])\n",
        "    print(my_list)\n",
        "print(my_list)"
      ]
    },
    {
      "cell_type": "code",
      "execution_count": 169,
      "metadata": {
        "trusted": true
      },
      "outputs": [
        {
          "name": "stdout",
          "output_type": "stream",
          "text": [
            "Name=Yanky\n",
            "Id=1323799\n"
          ]
        }
      ],
      "source": [
        "class Employee:\n",
        "    def __init__(self, Name, Id):\n",
        "        self.Name=Name\n",
        "        self.Id=Id\n",
        "    def __str__(self):\n",
        "        return f\"Name={self.Name}\\nId={self.Id}\"\n",
        "e1=Employee(\"Yanky\", 1323799)\n",
        "print(e1)"
      ]
    },
    {
      "cell_type": "code",
      "execution_count": 189,
      "metadata": {
        "trusted": true
      },
      "outputs": [
        {
          "name": "stdout",
          "output_type": "stream",
          "text": [
            "Ford\n",
            "Drive\n",
            "Ibiza\n",
            "Sail\n",
            "Boing\n",
            "Fly\n"
          ]
        }
      ],
      "source": [
        "class Vehicle:\n",
        "    def __init__(self):\n",
        "        pass;\n",
        "    def move(self):\n",
        "        print(\"Travel\")\n",
        "\n",
        "class Car:\n",
        "    def __init__(self, Model, Brand):\n",
        "        self.Model=Model\n",
        "        self.Brand=Brand\n",
        "    def move(self):\n",
        "        print(\"Drive\")\n",
        "\n",
        "class Boat:\n",
        "    def __init__(self, Model, Brand):\n",
        "        self.Model=Model\n",
        "        self.Brand=Brand\n",
        "    def move(self):\n",
        "        print(\"Sail\")\n",
        "\n",
        "class Airplane:\n",
        "    def __init__(self, Model, Brand):\n",
        "        self.Model=Model\n",
        "        self.Brand=Brand\n",
        "    def move(self):\n",
        "        print(\"Fly\")\n",
        "\n",
        "v1=Vehicle()\n",
        "c1=Car(\"Mustang\", \"Ford\")\n",
        "b1=Boat(\"Touring-20\", \"Ibiza\")\n",
        "a1=Airplane(\"747\", \"Boing\")\n",
        "for x in (c1,b1,a1):\n",
        "    print(x.Brand)\n",
        "    x.move()"
      ]
    },
    {
      "cell_type": "code",
      "execution_count": 190,
      "metadata": {
        "trusted": true
      },
      "outputs": [
        {
          "name": "stdout",
          "output_type": "stream",
          "text": [
            "dlroW olleH\n"
          ]
        }
      ],
      "source": [
        "str=\"Hello World\"\n",
        "n_str=str[::-1]\n",
        "print(n_str)"
      ]
    },
    {
      "cell_type": "code",
      "execution_count": 198,
      "metadata": {
        "trusted": true
      },
      "outputs": [
        {
          "name": "stdout",
          "output_type": "stream",
          "text": [
            "[2, 8, 10, 12, 18, 27, 48, 54, 79, 82, 90]\n"
          ]
        }
      ],
      "source": [
        "my_list=[27,54,82,12,18,79,48,10,2,90,8]\n",
        "n=len(my_list)\n",
        "for i in range(n):\n",
        "    for j in range(n-i-1):\n",
        "        if my_list[j]>my_list[j+1]:\n",
        "            my_list[j],my_list[j+1]=my_list[j+1],my_list[j]\n",
        "print(my_list)"
      ]
    },
    {
      "cell_type": "code",
      "execution_count": 204,
      "metadata": {
        "trusted": true
      },
      "outputs": [
        {
          "name": "stdout",
          "output_type": "stream",
          "text": [
            "      * \n",
            "     * * \n",
            "    * * * \n",
            "   * * * * \n",
            "  * * * * * \n",
            " * * * * * * \n"
          ]
        }
      ],
      "source": [
        "n=6\n",
        "for i in range(n):\n",
        "    for j in range(n):\n",
        "        print(end=\" \")\n",
        "    n=n-1\n",
        "    for j in range(i+1):\n",
        "        print(\"*\", end=\" \")\n",
        "    print(\"\")"
      ]
    },
    {
      "cell_type": "code",
      "execution_count": 216,
      "metadata": {
        "trusted": true
      },
      "outputs": [
        {
          "name": "stdout",
          "output_type": "stream",
          "text": [
            "[2, 8, 10, 12, 18, 27, 48, 54, 79, 82, 90]\n"
          ]
        }
      ],
      "source": [
        "my_list=[27,54,82,12,18,79,48,10,2,90,8]\n",
        "my_list.sort()\n",
        "sort_list=my_list.copy()\n",
        "print(sort_list)"
      ]
    },
    {
      "cell_type": "code",
      "execution_count": 218,
      "metadata": {
        "trusted": true
      },
      "outputs": [
        {
          "name": "stdout",
          "output_type": "stream",
          "text": [
            "12\n"
          ]
        }
      ],
      "source": [
        "x=lambda a,b:a+b\n",
        "print(x(4,8))"
      ]
    },
    {
      "cell_type": "code",
      "execution_count": 223,
      "metadata": {
        "trusted": true
      },
      "outputs": [
        {
          "name": "stdout",
          "output_type": "stream",
          "text": [
            "Boing 747\n"
          ]
        }
      ],
      "source": [
        "class Plane:\n",
        "    def __init__(self, Model, Brand):\n",
        "        self.Model=Model\n",
        "        self.Brand=Brand\n",
        "    def __str__(self):\n",
        "        return f\"{self.Brand} {self.Model}\"\n",
        "p1=Plane(747, \"Boing\")\n",
        "print(p1)"
      ]
    },
    {
      "cell_type": "code",
      "execution_count": 6,
      "metadata": {
        "trusted": true
      },
      "outputs": [
        {
          "name": "stdout",
          "output_type": "stream",
          "text": [
            "[2, 8, 10, 12, 18, 27, 48, 54, 79, 82, 90]\n"
          ]
        }
      ],
      "source": [
        "my_list=[27,54,82,12,18,79,48,10,2,90,8]\n",
        "n=len(my_list)\n",
        "for i in range(n):\n",
        "    for j in range(n-i-1):\n",
        "        if my_list[j]>my_list[j+1]:\n",
        "            my_list[j],my_list[j+1]=my_list[j+1],my_list[j]\n",
        "print(my_list)"
      ]
    },
    {
      "cell_type": "code",
      "execution_count": null,
      "metadata": {
        "trusted": true
      },
      "outputs": [],
      "source": []
    }
  ],
  "metadata": {
    "kernelspec": {
      "display_name": "base",
      "language": "python",
      "name": "python3"
    },
    "language_info": {
      "codemirror_mode": {
        "name": "ipython",
        "version": 3
      },
      "file_extension": ".py",
      "mimetype": "text/x-python",
      "name": "python",
      "nbconvert_exporter": "python",
      "pygments_lexer": "ipython3",
      "version": "3.8.3"
    }
  },
  "nbformat": 4,
  "nbformat_minor": 4
}
